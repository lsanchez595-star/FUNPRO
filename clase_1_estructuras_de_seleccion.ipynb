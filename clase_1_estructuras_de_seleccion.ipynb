{
  "nbformat": 4,
  "nbformat_minor": 0,
  "metadata": {
    "colab": {
      "provenance": []
    },
    "kernelspec": {
      "name": "python3",
      "display_name": "Python 3"
    },
    "language_info": {
      "name": "python"
    }
  },
  "cells": [
    {
      "cell_type": "code",
      "execution_count": null,
      "metadata": {
        "id": "Ayn9Oyn-RZW_"
      },
      "outputs": [],
      "source": []
    },
    {
      "cell_type": "markdown",
      "source": [
        "Estructura si/entonces\n",
        "-if/else\n",
        "Estructura si/sino/entonces"
      ],
      "metadata": {
        "id": "PFmQ2SPBR3jN"
      }
    },
    {
      "cell_type": "markdown",
      "source": [
        "Estructura si/entonces\n",
        "sirve para evaluar una condicion\n",
        "Daran un valor de verdad\n",
        "\n",
        "\n",
        "```\n",
        "# Tiene formato de código\n",
        "```\n",
        "If (condicion):\n",
        "aqui va algo si la condicion es verdadera\n",
        "Else\n",
        "aqui va algo si la condicisn es falsa\n",
        "\n",
        "#ejemplo1: Ai para gasolina\n",
        "\n"
      ],
      "metadata": {
        "id": "WQ0oTUSJUarF"
      }
    },
    {
      "cell_type": "code",
      "source": [
        "respuesta=input(\"ir a la gasolinera mas cercana?\")\n"
      ],
      "metadata": {
        "colab": {
          "base_uri": "https://localhost:8080/"
        },
        "id": "zpo6pJVefv3a",
        "outputId": "b5dff17c-f63b-475a-f5d4-668bec739514"
      },
      "execution_count": null,
      "outputs": [
        {
          "name": "stdout",
          "output_type": "stream",
          "text": [
            "ir a la gasolinera mas cercana?si\n"
          ]
        }
      ]
    },
    {
      "cell_type": "code",
      "source": [
        "if respuesta== \"si\":\n",
        "  print(\"ir a la gasolinera mas cercana\")\n",
        "else:\n",
        "    print(\"seguir derecho\")"
      ],
      "metadata": {
        "colab": {
          "base_uri": "https://localhost:8080/"
        },
        "id": "H_94apmfdYws",
        "outputId": "458b0b74-9961-404d-daad-c2a60dba2328"
      },
      "execution_count": null,
      "outputs": [
        {
          "output_type": "stream",
          "name": "stdout",
          "text": [
            "ir a la gasolinera mas cercana\n"
          ]
        }
      ]
    },
    {
      "cell_type": "code",
      "source": [
        "import random #importando la libreria random\n",
        "gasolina=random.randint(1,100)#hallar un numero aleatorio\n",
        "gasolina"
      ],
      "metadata": {
        "id": "BxEr2D9yhZmq"
      },
      "execution_count": null,
      "outputs": []
    },
    {
      "cell_type": "code",
      "source": [],
      "metadata": {
        "id": "KPHSMzzlR389"
      },
      "execution_count": null,
      "outputs": []
    }
  ]
}