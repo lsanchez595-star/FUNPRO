{
  "nbformat": 4,
  "nbformat_minor": 0,
  "metadata": {
    "colab": {
      "provenance": [],
      "authorship_tag": "ABX9TyMXgeBIrG9bc3fi39g4xSo4",
      "include_colab_link": true
    },
    "kernelspec": {
      "name": "python3",
      "display_name": "Python 3"
    },
    "language_info": {
      "name": "python"
    }
  },
  "cells": [
    {
      "cell_type": "markdown",
      "metadata": {
        "id": "view-in-github",
        "colab_type": "text"
      },
      "source": [
        "<a href=\"https://colab.research.google.com/github/lsanchez595-star/FUNPRO/blob/main/Tarea.ipynb\" target=\"_parent\"><img src=\"https://colab.research.google.com/assets/colab-badge.svg\" alt=\"Open In Colab\"/></a>"
      ]
    },
    {
      "cell_type": "code",
      "execution_count": null,
      "metadata": {
        "id": "gZCGI40oS3_S"
      },
      "outputs": [],
      "source": []
    },
    {
      "cell_type": "markdown",
      "source": [
        "if condicion1:\n",
        "  expresion 1\n",
        "elif condicion 2\n",
        " expresion 2\n",
        "elif condicion 3\n",
        " expresiom 3"
      ],
      "metadata": {
        "id": "FvqfMD4uS52v"
      }
    },
    {
      "cell_type": "code",
      "source": [
        "prob_lluvia=float(input(\"ingresar probabilidad de lluvia:\"))\n",
        "temp=float(input(\"ingresar temperatura actual:\"))\n",
        "hum_suelo=float(input(\"ingrese humedad del suelo:\"))\n",
        "hora=int(input(\"ingrese la hora actual\"))\n",
        "if hum_suelo<35 and prob_lluvia<40:\n",
        " print(\"Regar\")\n",
        "elif 15>=hora>=11 and temp>30:\n",
        "  print(\"no regar\")\n",
        "else:\n",
        " print(\"no regar para evitar evaporacion\")\n",
        "if prob_lluvia>=70:\n",
        " print(\"no regar\")\n",
        "if hum_suelo==0 or temp==0 or prob_lluvia==0:\n",
        " print(\"error sensor\")\n"
      ],
      "metadata": {
        "colab": {
          "base_uri": "https://localhost:8080/"
        },
        "id": "DbWgq9gfkTY1",
        "outputId": "256f6ab6-ec17-4e3f-9671-6a3f6b0b601f"
      },
      "execution_count": null,
      "outputs": [
        {
          "output_type": "stream",
          "name": "stdout",
          "text": [
            "ingresar probabilidad de lluvia:34\n",
            "ingresar temperatura actual:12\n",
            "ingrese humedad del suelo:23\n",
            "ingrese la hora actual16\n",
            "Regar\n"
          ]
        }
      ]
    },
    {
      "cell_type": "code",
      "source": [
        "kwh=int(input(\"ingrese cantidad de kilobatios consumidos:\\n\"))\n",
        "estrato=int(input(\"ingrese su estrato actual:\\n\"))\n",
        "dia_de_la_semana=(input(\"¿que dia de la semana es hoy?:\\n\"))\n",
        "festivo=(input(\"¿Hoy es festivo?:\\n\"))\n",
        "if estrato==1 or estrato==2 or estrato==0:\n",
        " print(\"usted recide un descuento del 20% consulte su nueva tarifa\")\n",
        "elif estrato==3 or estrato==4 or estrato==5 or estrato==6:\n",
        "  print(\"consulte su tarifa\")\n",
        "else:\n",
        "  print(\"error por estrato dijitado no valido programe una visita al predio\")\n",
        "if (dia_de_la_semana== \"sabado\" or dia_de_la_semana==\"domingo\") and kwh>1000:\n",
        " print(f\"usted recibe un recargo de{kwh*800} por superar el tope asignado de 1000kwh\")\n",
        "else:\n",
        "  print( )\n",
        "if festivo== \"si\" and kwh>1000:\n",
        " print(f\"usted recibe un recargo de: {kwh*800} por superar el tope asignado de 1000kwh\")\n",
        "else:\n",
        " print( )\n",
        "if kwh<0:\n",
        " print(\"error por cantidad de kilobatios consumidos no valido\")\n"
      ],
      "metadata": {
        "id": "q5dzRo7OpVyY",
        "colab": {
          "base_uri": "https://localhost:8080/"
        },
        "outputId": "ed4575bc-ea14-4a2f-f519-4d0a82402c8c"
      },
      "execution_count": 57,
      "outputs": [
        {
          "output_type": "stream",
          "name": "stdout",
          "text": [
            "ingrese cantidad de kilobatios consumidos:\n",
            "400\n",
            "ingrese su estrato actual:\n",
            "6\n",
            "¿que dia de la semana es hoy?:\n",
            "lunes\n",
            "¿Hoy es festivo?:\n",
            "si\n",
            "consulte su tarifa\n",
            "\n",
            "\n"
          ]
        }
      ]
    }
  ]
}