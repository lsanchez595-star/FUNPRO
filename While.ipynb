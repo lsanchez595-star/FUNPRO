{
  "cells": [
    {
      "cell_type": "markdown",
      "metadata": {
        "id": "view-in-github",
        "colab_type": "text"
      },
      "source": [
        "<a href=\"https://colab.research.google.com/github/lsanchez595-star/FUNPRO/blob/main/While.ipynb\" target=\"_parent\"><img src=\"https://colab.research.google.com/assets/colab-badge.svg\" alt=\"Open In Colab\"/></a>"
      ]
    },
    {
      "cell_type": "code",
      "source": [
        "sumag = 0\n",
        "gasto = int(input(\"Introduce el primer gasto (o 0 para finalizar): \"))\n",
        "\n",
        "while gasto != 0:\n",
        "    sumag += gasto\n",
        "    gasto = int(input(\"Introduce el siguiente gasto (o 0 para finalizar): \"))\n",
        "\n",
        "print(f\"El total acumulado de los gastos del viaje es: ${sumag}\")"
      ],
      "metadata": {
        "id": "QfSo5E3kzJOg",
        "outputId": "b6a447cd-48e3-4e60-8760-6ce7034d6854",
        "colab": {
          "base_uri": "https://localhost:8080/"
        }
      },
      "execution_count": 2,
      "outputs": [
        {
          "output_type": "stream",
          "name": "stdout",
          "text": [
            "Introduce el primer gasto (o 0 para finalizar): 1000\n",
            "Introduce el siguiente gasto (o 0 para finalizar): 2000\n",
            "Introduce el siguiente gasto (o 0 para finalizar): 3000\n",
            "Introduce el siguiente gasto (o 0 para finalizar): 0\n",
            "El total acumulado de los gastos del viaje es: $6000\n"
          ]
        }
      ]
    },
    {
      "cell_type": "code",
      "source": [
        "n = int(input(\"Introduce un número positivo para calcular su cubo (o 0 para terminar): \"))\n",
        "\n",
        "while n > 0:\n",
        "    cubo = n ** 3\n",
        "    print(f\"El cubo de {n} es: {cubo}\")\n",
        "    n = int(input(\"Introduce otro número positivo (o 0 para terminar): \"))"
      ],
      "metadata": {
        "id": "iWojcGY93ZJC",
        "outputId": "68b7d143-1bd9-4f69-852b-2c35b8818a3f",
        "colab": {
          "base_uri": "https://localhost:8080/"
        }
      },
      "execution_count": 3,
      "outputs": [
        {
          "name": "stdout",
          "output_type": "stream",
          "text": [
            "Introduce un número positivo para calcular su cubo (o 0 para terminar): 2\n",
            "El cubo de 2 es: 8\n",
            "Introduce otro número positivo (o 0 para terminar): 2\n",
            "El cubo de 2 es: 8\n",
            "Introduce otro número positivo (o 0 para terminar): 3\n",
            "El cubo de 3 es: 27\n",
            "Introduce otro número positivo (o 0 para terminar): 0\n"
          ]
        }
      ]
    },
    {
      "cell_type": "code",
      "source": [
        "pw = \"\"\n",
        "\n",
        "while len(pw) < 6:\n",
        "    pw = input(\"Por favor, introduce una contraseña (mínimo 6 caracteres): \")\n",
        "    if len(pw) < 6:\n",
        "        print(\"Contraseña débil. Vuelve a intentarlo.\")\n",
        "\n",
        "print(\"Contraseña aceptada.\")"
      ],
      "metadata": {
        "id": "BzVxCvPt3su1",
        "outputId": "c49538b2-e940-4972-a6f3-0d3de86b0339",
        "colab": {
          "base_uri": "https://localhost:8080/"
        }
      },
      "execution_count": null,
      "outputs": [
        {
          "output_type": "stream",
          "name": "stdout",
          "text": [
            "Por favor, introduce una contraseña (mínimo 6 caracteres): Luna3\n",
            "Contraseña débil. Vuelve a intentarlo.\n"
          ]
        }
      ]
    }
  ],
  "metadata": {
    "colab": {
      "name": "Te damos la bienvenida a Colab",
      "toc_visible": true,
      "provenance": [],
      "include_colab_link": true
    },
    "kernelspec": {
      "display_name": "Python 3",
      "name": "python3"
    }
  },
  "nbformat": 4,
  "nbformat_minor": 0
}