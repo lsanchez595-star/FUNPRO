{
  "nbformat": 4,
  "nbformat_minor": 0,
  "metadata": {
    "colab": {
      "provenance": [],
      "authorship_tag": "ABX9TyP47uBeOjm5NGQXuvjxxXjs",
      "include_colab_link": true
    },
    "kernelspec": {
      "name": "python3",
      "display_name": "Python 3"
    },
    "language_info": {
      "name": "python"
    }
  },
  "cells": [
    {
      "cell_type": "markdown",
      "metadata": {
        "id": "view-in-github",
        "colab_type": "text"
      },
      "source": [
        "<a href=\"https://colab.research.google.com/github/lsanchez595-star/FUNPRO/blob/main/corregido.ipynb\" target=\"_parent\"><img src=\"https://colab.research.google.com/assets/colab-badge.svg\" alt=\"Open In Colab\"/></a>"
      ]
    },
    {
      "cell_type": "code",
      "execution_count": null,
      "metadata": {
        "colab": {
          "base_uri": "https://localhost:8080/"
        },
        "id": "9kkm-oMo2dTV",
        "outputId": "d39e3b22-221c-497b-f520-94d86aaae7ab"
      },
      "outputs": [
        {
          "output_type": "stream",
          "name": "stdout",
          "text": [
            "ingrese numero a evaluar3\n",
            "positivo\n"
          ]
        }
      ],
      "source": [
        "n=float(input(\"ingrese numero a evaluar\"))\n",
        "if n>0:\n",
        " print(\"positivo\")\n",
        "elif n<0:\n",
        " print(\"negativo\")\n",
        "elif n==0:\n",
        "  print(\"su numero es 0\")\n",
        "else:\n",
        "  print(\"caracter no valido\")"
      ]
    },
    {
      "cell_type": "code",
      "source": [
        "kg=float(input(\"digite su peso:\"))\n",
        "h=float(input(\"digite su altura:\"))\n",
        "imc=float\n",
        "imc=(kg/(h*h))\n",
        "if imc<18.5:\n",
        " print(\"bajo peso\")\n",
        "elif 18.5<imc<24.9:\n",
        " print(\"peso normal\")\n",
        "elif 25<imc<29.9:\n",
        " print(\"sobrepeso\")\n",
        "elif imc>=30:\n",
        "  print(\"obesidad\")\n",
        "else:\n",
        "  print(\"error\")"
      ],
      "metadata": {
        "colab": {
          "base_uri": "https://localhost:8080/"
        },
        "id": "tZFUsALe30Iw",
        "outputId": "bdd934cd-9e5d-49b4-eb77-82400debcc81"
      },
      "execution_count": 45,
      "outputs": [
        {
          "output_type": "stream",
          "name": "stdout",
          "text": [
            "digite su peso:50\n",
            "digite su altura:1.70\n",
            "bajo peso\n"
          ]
        }
      ]
    },
    {
      "cell_type": "code",
      "source": [
        "n1=float(input(\"ingrese el primer numero de la operacion\"))\n",
        "n2=float(input(\"ingrese el segundo numero de la operacion\"))\n",
        "signo=(input(\"ingrese el signo que va a utilizar\"))\n",
        "match signo:\n",
        "  case \"-\":\n",
        "    print(n1-n2)\n",
        "  case \"+\":\n",
        "    print(n1+n2)\n",
        "  case \"*\":\n",
        "    print(n1*n2)\n",
        "  case\"/\":\n",
        "    print(n1/n2)\n",
        "  case \"_\":\n",
        "    print(error)\n"
      ],
      "metadata": {
        "colab": {
          "base_uri": "https://localhost:8080/"
        },
        "id": "6ioIOFo_rNRU",
        "outputId": "6df49810-3258-48f1-b20f-96045248f70c"
      },
      "execution_count": 44,
      "outputs": [
        {
          "output_type": "stream",
          "name": "stdout",
          "text": [
            "ingrese el primer numero de la operacion2\n",
            "ingrese el segundo numero de la operacion4\n",
            "ingrese el signo que va a utilizar*\n",
            "8.0\n"
          ]
        }
      ]
    },
    {
      "cell_type": "code",
      "source": [
        "l1=float(input(\"ingrese lado 1:\"))\n",
        "l2=float(input(\"ingrese lado 2:\"))\n",
        "l3=float(input(\"ingrese lado 3:\"))\n",
        "if l1==l2 and l2==l3 and l1==l3:\n",
        " print(\"equilatero\")\n",
        "elif l1==l2 or l2==l3 or l1==l3:\n",
        " print(\"isosceles\")\n",
        "else:\n",
        "  print(\"escaleno\")"
      ],
      "metadata": {
        "colab": {
          "base_uri": "https://localhost:8080/"
        },
        "id": "EC7ZvIXx6WGm",
        "outputId": "856f2531-d3ed-4182-bd0f-5de5015c88f6"
      },
      "execution_count": null,
      "outputs": [
        {
          "output_type": "stream",
          "name": "stdout",
          "text": [
            "ingrese lado 1:12\n",
            "ingrese lado 2:13\n",
            "ingrese lado 3:14\n",
            "escaleno\n"
          ]
        }
      ]
    },
    {
      "cell_type": "code",
      "source": [
        "año=int(input(\"ingrese año a evalluar:\"))\n",
        "if año%4==0:\n",
        " print(f\"{año} es un año bisiesto\")\n",
        "elif año%400==0 and año%100==0:\n",
        " print(f\"{año} es un año bisiesto\")\n",
        "else:\n",
        "  print(f\"{año} no es un año bisiesto\")"
      ],
      "metadata": {
        "id": "wG-oLlOq7qeF",
        "colab": {
          "base_uri": "https://localhost:8080/"
        },
        "outputId": "862afd7c-ee9b-4661-dfd0-6e8904cb1964"
      },
      "execution_count": 14,
      "outputs": [
        {
          "output_type": "stream",
          "name": "stdout",
          "text": [
            "ingrese año a evalluar:2025\n",
            "2025 no es un año bisiesto\n"
          ]
        }
      ]
    }
  ]
}